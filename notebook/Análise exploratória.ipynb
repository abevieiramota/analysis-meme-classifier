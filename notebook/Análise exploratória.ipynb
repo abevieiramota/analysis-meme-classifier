{
 "cells": [
  {
   "cell_type": "code",
   "execution_count": 29,
   "metadata": {
    "collapsed": true
   },
   "outputs": [],
   "source": [
    "import pandas as pd\n",
    "import numpy as np"
   ]
  },
  {
   "cell_type": "code",
   "execution_count": 52,
   "metadata": {
    "collapsed": false
   },
   "outputs": [],
   "source": [
    "df = pd.read_csv('../data/dataset.csv', sep=';', dtype=object)"
   ]
  },
  {
   "cell_type": "code",
   "execution_count": 53,
   "metadata": {
    "collapsed": false
   },
   "outputs": [
    {
     "data": {
      "text/plain": [
       "(2880, 3)"
      ]
     },
     "execution_count": 53,
     "metadata": {},
     "output_type": "execute_result"
    }
   ],
   "source": [
    "df.shape"
   ]
  },
  {
   "cell_type": "code",
   "execution_count": 54,
   "metadata": {
    "collapsed": false
   },
   "outputs": [
    {
     "data": {
      "text/plain": [
       "array(['All-The-Things', 'Ancient-Aliens', 'Bad-Luck-Brian',\n",
       "       'Conspiracy-Keanu', 'First-World-Problems', 'Forever-Alone',\n",
       "       'Futurama-Fry', 'Good-Guy-Greg', 'Grumpy-Cat', 'Insanity-Wolf',\n",
       "       'Joseph-Ducreux', 'Kermit-The-Frog-Drinking-Tea',\n",
       "       'One-Does-Not-Simply', 'Philosoraptor', 'Scumbag-Steve',\n",
       "       'Success-Kid', 'The-Most-Interesting-Man-In-The-World',\n",
       "       'What-If-I-Told-You', 'Willy-Wonka', 'Winter-Is-Coming',\n",
       "       'X-All-The-Things', 'X-X-Everywhere', 'Y-U-No', 'Yo-Dawg'], dtype=object)"
      ]
     },
     "execution_count": 54,
     "metadata": {},
     "output_type": "execute_result"
    }
   ],
   "source": [
    "df.meme.unique()"
   ]
  },
  {
   "cell_type": "markdown",
   "metadata": {},
   "source": [
    "### to lowercase"
   ]
  },
  {
   "cell_type": "code",
   "execution_count": 64,
   "metadata": {
    "collapsed": true
   },
   "outputs": [],
   "source": [
    "df['text0'] = df.text0.str.lower()\n",
    "df['text1'] = df.text1.str.lower()"
   ]
  },
  {
   "cell_type": "markdown",
   "metadata": {},
   "source": [
    "### drop duplicates"
   ]
  },
  {
   "cell_type": "code",
   "execution_count": 65,
   "metadata": {
    "collapsed": false
   },
   "outputs": [],
   "source": [
    "df['full_text'] = df.apply(lambda row: str(row.text0) + \"\" + str(row.text1), axis=1)"
   ]
  },
  {
   "cell_type": "code",
   "execution_count": 66,
   "metadata": {
    "collapsed": false
   },
   "outputs": [],
   "source": [
    "df.drop_duplicates('full_text', inplace=True)"
   ]
  },
  {
   "cell_type": "code",
   "execution_count": 67,
   "metadata": {
    "collapsed": false
   },
   "outputs": [
    {
     "data": {
      "text/plain": [
       "(1478, 4)"
      ]
     },
     "execution_count": 67,
     "metadata": {},
     "output_type": "execute_result"
    }
   ],
   "source": [
    "df.shape"
   ]
  },
  {
   "cell_type": "markdown",
   "metadata": {},
   "source": [
    "### All the things are possible"
   ]
  },
  {
   "cell_type": "markdown",
   "metadata": {},
   "source": [
    "<img src=\"../img/All-The-Things.jpg\" />"
   ]
  },
  {
   "cell_type": "code",
   "execution_count": 68,
   "metadata": {
    "collapsed": true
   },
   "outputs": [],
   "source": [
    "all_things = df[df.meme == 'All-The-Things']"
   ]
  },
  {
   "cell_type": "code",
   "execution_count": 69,
   "metadata": {
    "collapsed": false
   },
   "outputs": [
    {
     "data": {
      "text/html": [
       "<div>\n",
       "<table border=\"1\" class=\"dataframe\">\n",
       "  <thead>\n",
       "    <tr style=\"text-align: right;\">\n",
       "      <th></th>\n",
       "      <th>meme</th>\n",
       "      <th>text0</th>\n",
       "      <th>text1</th>\n",
       "      <th>full_text</th>\n",
       "    </tr>\n",
       "  </thead>\n",
       "  <tbody>\n",
       "    <tr>\n",
       "      <th>count</th>\n",
       "      <td>46</td>\n",
       "      <td>45</td>\n",
       "      <td>38</td>\n",
       "      <td>46</td>\n",
       "    </tr>\n",
       "    <tr>\n",
       "      <th>unique</th>\n",
       "      <td>1</td>\n",
       "      <td>44</td>\n",
       "      <td>33</td>\n",
       "      <td>46</td>\n",
       "    </tr>\n",
       "    <tr>\n",
       "      <th>top</th>\n",
       "      <td>All-The-Things</td>\n",
       "      <td>destroy the electoral college!</td>\n",
       "      <td>all the things</td>\n",
       "      <td>breakall the code</td>\n",
       "    </tr>\n",
       "    <tr>\n",
       "      <th>freq</th>\n",
       "      <td>46</td>\n",
       "      <td>2</td>\n",
       "      <td>6</td>\n",
       "      <td>1</td>\n",
       "    </tr>\n",
       "  </tbody>\n",
       "</table>\n",
       "</div>"
      ],
      "text/plain": [
       "                  meme                           text0           text1  \\\n",
       "count               46                              45              38   \n",
       "unique               1                              44              33   \n",
       "top     All-The-Things  destroy the electoral college!  all the things   \n",
       "freq                46                               2               6   \n",
       "\n",
       "                full_text  \n",
       "count                  46  \n",
       "unique                 46  \n",
       "top     breakall the code  \n",
       "freq                    1  "
      ]
     },
     "execution_count": 69,
     "metadata": {},
     "output_type": "execute_result"
    }
   ],
   "source": [
    "all_things.describe()"
   ]
  },
  {
   "cell_type": "code",
   "execution_count": 71,
   "metadata": {
    "collapsed": false
   },
   "outputs": [
    {
     "data": {
      "text/plain": [
       "all the things                          6\n",
       "i'm doing all the things                1\n",
       "evolve all the pokémon                  1\n",
       "asap all the things                     1\n",
       "make america gre- ...um, rawr!          1\n",
       "the ice cream, please!!!                1\n",
       "all the show commands                   1\n",
       "all the baselines                       1\n",
       "the declensions                         1\n",
       "the cl tasks!!                          1\n",
       "for the win!                            1\n",
       "for duplication of effort               1\n",
       "is go!                                  1\n",
       "make america gr- ....um, rawr!          1\n",
       "all the metrics                         1\n",
       "all of the tones.                       1\n",
       "all the things!                         1\n",
       "everything                              1\n",
       "all teh ponies                          1\n",
       "all the util                            1\n",
       "brings food to class                    1\n",
       "all the days!                           1\n",
       "ll                                      1\n",
       "have all the culture                    1\n",
       "databases                               1\n",
       "to beat up people!!!!!!!!!!!!!!!!!!!    1\n",
       "memes                                   1\n",
       "fervently!                              1\n",
       "is go!!!                                1\n",
       "all the code                            1\n",
       "the avocados                            1\n",
       "sunrises!                               1\n",
       "all the cubicles                        1\n",
       "Name: text1, dtype: int64"
      ]
     },
     "execution_count": 71,
     "metadata": {},
     "output_type": "execute_result"
    }
   ],
   "source": [
    "all_things.text1.value_counts()"
   ]
  },
  {
   "cell_type": "code",
   "execution_count": null,
   "metadata": {
    "collapsed": true
   },
   "outputs": [],
   "source": []
  }
 ],
 "metadata": {
  "anaconda-cloud": {},
  "kernelspec": {
   "display_name": "Python [conda root]",
   "language": "python",
   "name": "conda-root-py"
  },
  "language_info": {
   "codemirror_mode": {
    "name": "ipython",
    "version": 3
   },
   "file_extension": ".py",
   "mimetype": "text/x-python",
   "name": "python",
   "nbconvert_exporter": "python",
   "pygments_lexer": "ipython3",
   "version": "3.5.2"
  }
 },
 "nbformat": 4,
 "nbformat_minor": 1
}
